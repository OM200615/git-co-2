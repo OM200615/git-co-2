{
 "cells": [
  {
   "cell_type": "code",
   "execution_count": 1,
   "metadata": {},
   "outputs": [
    {
     "name": "stdout",
     "output_type": "stream",
     "text": [
      "120 hello world <class 'int'>\n",
      "10.09 hello world <class 'float'>\n",
      "om hello world <class 'str'>\n"
     ]
    }
   ],
   "source": [
    "a=120\n",
    "print(a,\"hello world\",type(a))\n",
    "a=10.09\n",
    "print(a,\"hello world\",type(a))\n",
    "a=\"om\"\n",
    "print(a,\"hello world\",type(a))"
   ]
  },
  {
   "cell_type": "code",
   "execution_count": 2,
   "metadata": {},
   "outputs": [
    {
     "name": "stdout",
     "output_type": "stream",
     "text": [
      "100 hello world <class 'int'>\n",
      "10.09 hello world <class 'float'>\n",
      "om hello world <class 'str'>\n"
     ]
    }
   ],
   "source": [
    "a=100\n",
    "print(a,\"hello world\",type(a))\n",
    "a=10.09\n",
    "print(a,\"hello world\",type(a))\n",
    "a=\"om\"\n",
    "print(a,\"hello world\",type(a))"
   ]
  },
  {
   "cell_type": "code",
   "execution_count": 7,
   "metadata": {},
   "outputs": [
    {
     "name": "stdout",
     "output_type": "stream",
     "text": [
      "outside if\n"
     ]
    }
   ],
   "source": [
    "\n",
    "\n",
    "a=10\n",
    "b=20\n",
    "if (a>b):\n",
    "    print(\"a is greater\")\n",
    "    print(\"if block\")\n",
    "print(\"outside if\")"
   ]
  },
  {
   "cell_type": "code",
   "execution_count": 12,
   "metadata": {},
   "outputs": [
    {
     "name": "stdout",
     "output_type": "stream",
     "text": [
      "b is greater\n",
      "outside if\n"
     ]
    }
   ],
   "source": [
    "a=10\n",
    "b=20\n",
    "if (a>b):    \n",
    "    print(\"a is greater\")\n",
    "    print(\"if block\")\n",
    "else:\n",
    "    print(\"b is greater\")\n",
    "print(\"outside if\")\n"
   ]
  },
  {
   "cell_type": "code",
   "execution_count": null,
   "metadata": {},
   "outputs": [],
   "source": []
  },
  {
   "cell_type": "code",
   "execution_count": null,
   "metadata": {},
   "outputs": [],
   "source": []
  }
 ],
 "metadata": {
  "kernelspec": {
   "display_name": "Python 3",
   "language": "python",
   "name": "python3"
  },
  "language_info": {
   "codemirror_mode": {
    "name": "ipython",
    "version": 3
   },
   "file_extension": ".py",
   "mimetype": "text/x-python",
   "name": "python",
   "nbconvert_exporter": "python",
   "pygments_lexer": "ipython3",
   "version": "3.12.3"
  }
 },
 "nbformat": 4,
 "nbformat_minor": 2
}
